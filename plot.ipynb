{
 "cells": [
  {
   "cell_type": "code",
   "execution_count": null,
   "metadata": {},
   "outputs": [],
   "source": [
    "import pandas as pd\n",
    "import numpy as np\n",
    "import matplotlib.pyplot as plt\n",
    "\n",
    "results_filepath = 'results1222.txt'\n",
    "results = pd.read_csv(results_filepath, header=None)\n",
    "\n",
    "\n",
    "data = {}\n",
    "\n",
    "for i in results.index:\n",
    "    row = results.loc[i]\n",
    "    instance = row[0]\n",
    "    algorithm_name = row[1]\n",
    "    data_type = row[2]\n",
    "\n",
    "    if not instance in data:\n",
    "        data[instance] = {}\n",
    "    if not algorithm_name in data[instance]:\n",
    "        data[instance][algorithm_name] = {} \n",
    "    data[instance][algorithm_name][data_type] = row[3:].to_numpy().tolist()\n",
    "\n",
    "fig, ax = plt.subplots(nrows=2, ncols=3, figsize=(20, 12))\n",
    "plt.subplots_adjust(wspace=0.5, hspace=0.3)  # adjust the interval of subplots\n",
    "\n",
    "print(f\"{results_filepath} contains {len(data.keys())} dataset\")\n",
    "\n",
    "# instance to plot\n",
    "instance = ['mtsp51', 'mtsp100', 'mtsp150', 'pr76', 'pr152', 'pr226']\n",
    "\n",
    "# the algorithms you want to plot\n",
    "algorithms = ['baseline','baseline*','ours','ours*']\n",
    "labels = ['baseline', 'ours']\n",
    "colors = ['skyblue', 'pink']\n",
    "\n",
    "plot_type = 'distance' # distance, count or time\n",
    "\n",
    "for i in range(6):\n",
    "    x = i // 3\n",
    "    y = i % 3\n",
    "\n",
    "    bplot = ax[x][y].boxplot([distance[i], distance[i + 6], distance[i+12]],\n",
    "                         vert=True,  # vertical box alignment\n",
    "                         notch=True,  # notch shape\n",
    "                         patch_artist=True,  # fill with color\n",
    "                         labels=labels)  # will be used to label x-ticks\n",
    "    ax[x][y].set_ylabel('Total distance', fontsize=20)\n",
    "    ax[x][y].tick_params(axis='y', which='major', labelsize=15)\n",
    "    ax[x][y].tick_params(axis='x', which='major', labelsize=20)\n",
    "    ax[x][y].set_title(dataset[i], fontsize=20)\n",
    "    ax[x][y].yaxis.grid(True)\n",
    "\n",
    "    for patch, color in zip(bplot['boxes'], colors):\n",
    "        patch.set_facecolor(color)\n",
    "\n",
    "\n",
    "plt.savefig('./compare.jpg')\n",
    "plt.show()\n",
    "\n"
   ]
  }
 ],
 "metadata": {
  "interpreter": {
   "hash": "3d9b497f5d8d661e06dc10cbd7238d798039df33af460135e3c635e020c38ea6"
  },
  "kernelspec": {
   "display_name": "Python 3.8.12 64-bit ('mtsp': conda)",
   "language": "python",
   "name": "python3"
  },
  "language_info": {
   "codemirror_mode": {
    "name": "ipython",
    "version": 3
   },
   "file_extension": ".py",
   "mimetype": "text/x-python",
   "name": "python",
   "nbconvert_exporter": "python",
   "pygments_lexer": "ipython3",
   "version": "3.8.12"
  },
  "orig_nbformat": 4
 },
 "nbformat": 4,
 "nbformat_minor": 2
}
