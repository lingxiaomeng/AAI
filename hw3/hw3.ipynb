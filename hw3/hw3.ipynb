{
 "cells": [
  {
   "cell_type": "code",
   "execution_count": 1,
   "metadata": {},
   "outputs": [],
   "source": [
    "import numpy as np\n",
    "from sklearn.model_selection import KFold, cross_val_score\n",
    "from sklearn.preprocessing import StandardScaler\n",
    "from sklearn.metrics import accuracy_score"
   ]
  },
  {
   "cell_type": "code",
   "execution_count": 2,
   "metadata": {},
   "outputs": [],
   "source": [
    "def load_txt(file_path: str) -> np.numarray:\n",
    "    data = np.genfromtxt(file_path)\n",
    "    return np.nan_to_num(data, nan=-1)\n",
    "\n",
    "X = load_txt('./traindata.txt')\n",
    "y = load_txt('trainlabel.txt')\n",
    "y[y >= 1] = 1\n",
    "X_test = load_txt('./testdata.txt')\n",
    "\n",
    "scaler = StandardScaler()\n",
    "X = scaler.fit_transform(X)\n",
    "X_test = scaler.transform(X_test)"
   ]
  },
  {
   "cell_type": "code",
   "execution_count": 3,
   "metadata": {},
   "outputs": [],
   "source": [
    "# Split dataset into 5 consecutive folds. Each fold is then used once as a validation while the 4 remaining folds form the training set.\n",
    "from sklearn.neural_network import MLPClassifier\n",
    "from sklearn.svm import SVC\n",
    "from sklearn.neighbors import KNeighborsClassifier\n",
    "from sklearn.tree import DecisionTreeClassifier\n",
    "from sklearn.ensemble import StackingClassifier\n",
    "kf = KFold(n_splits=5, shuffle=True, random_state=0)\n",
    "\n",
    "dt_acc = []\n",
    "knn_acc = []\n",
    "svm_acc = []\n",
    "nn_acc = []\n",
    "ensemble_acc = []\n",
    "\n",
    "for train_index, val_index in kf.split(X):\n",
    "    X_train, X_val = X[train_index], X[val_index]\n",
    "    y_train, y_val = y[train_index], y[val_index]\n",
    "    dt = DecisionTreeClassifier(random_state=0)\n",
    "    knn = KNeighborsClassifier(n_neighbors=15)\n",
    "    svm = SVC(kernel='linear', random_state=0)\n",
    "    nn = MLPClassifier(hidden_layer_sizes=(\n",
    "        10, 10), max_iter=10000, activation=\"relu\",random_state=0)\n",
    "    estimators = [('DecisionTree', dt),\n",
    "                ('knn', knn),\n",
    "                ('svm', svm),\n",
    "                ('nn', nn)]\n",
    "    ensemble = StackingClassifier(estimators=estimators)\n",
    "    dt_acc.append(accuracy_score(\n",
    "        dt.fit(X_train, y_train).predict(X_val), y_val))\n",
    "    knn_acc.append(accuracy_score(\n",
    "        knn.fit(X_train, y_train).predict(X_val), y_val))\n",
    "    svm_acc.append(accuracy_score(\n",
    "        svm.fit(X_train, y_train).predict(X_val), y_val))\n",
    "    nn_acc.append(accuracy_score(\n",
    "        nn.fit(X_train, y_train).predict(X_val), y_val))\n",
    "    ensemble_acc.append(accuracy_score(\n",
    "        ensemble.fit(X_train, y_train).predict(X_val), y_val))\n",
    "\n"
   ]
  },
  {
   "cell_type": "code",
   "execution_count": 4,
   "metadata": {},
   "outputs": [
    {
     "data": {
      "image/png": "[encoded data removed]",
      "text/plain": [
       "<Figure size 936x720 with 1 Axes>"
      ]
     },
     "metadata": {
      "needs_background": "light"
     },
     "output_type": "display_data"
    }
   ],
   "source": [
    "import matplotlib.pyplot as plt\n",
    "acc = [np.average(dt_acc), np.average(knn_acc), np.average(svm_acc), np.average(nn_acc), np.average(ensemble_acc)]\n",
    "labels = ['Decision Tree','Nearest Neighbor Classifier','Support Vector Machine','Neural Network','Ensemble Models']\n",
    "x = np.array([1,2,3,4,5])\n",
    "plt.figure(figsize=(13,10))\n",
    "b = plt.bar(x, acc, tick_label = labels, width = 0.4)\n",
    "plt.bar_label(b)\n",
    "plt.show()\n"
   ]
  },
  {
   "cell_type": "code",
   "execution_count": 5,
   "metadata": {},
   "outputs": [],
   "source": [
    "dt = DecisionTreeClassifier(random_state=0)\n",
    "knn = KNeighborsClassifier(n_neighbors=15)\n",
    "svm = SVC(kernel='linear', random_state=0)\n",
    "nn = MLPClassifier(hidden_layer_sizes=(\n",
    "    10, 10), max_iter=10000, activation=\"relu\",random_state=0)\n",
    "estimators = [('DecisionTree', dt),\n",
    "              ('knn', knn),\n",
    "              ('svm', svm),\n",
    "              ('nn', nn)]\n",
    "\n",
    "ensemble = StackingClassifier(estimators=estimators)\n",
    "ensemble.fit(X, y)\n",
    "y_pred = ensemble.predict(X_test)\n",
    "np.savetxt('testlabel.txt',y_pred,fmt=\"%d\")"
   ]
  }
 ],
 "metadata": {
  "interpreter": {
   "hash": "775eff912bf67072a4d32c22564e83ff44c920edb44d0fdcc746e8f711b0690b"
  },
  "kernelspec": {
   "display_name": "Python 3.8.11 64-bit ('torch': conda)",
   "language": "python",
   "name": "python3"
  },
  "language_info": {
   "codemirror_mode": {
    "name": "ipython",
    "version": 3
   },
   "file_extension": ".py",
   "mimetype": "text/x-python",
   "name": "python",
   "nbconvert_exporter": "python",
   "pygments_lexer": "ipython3",
   "version": "3.8.11"
  },
  "orig_nbformat": 4
 },
 "nbformat": 4,
 "nbformat_minor": 2
}
