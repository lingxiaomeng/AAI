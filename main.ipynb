{
 "cells": [
  {
   "cell_type": "code",
   "execution_count": null,
   "metadata": {},
   "outputs": [],
   "source": [
    "%matplotlib inline\n",
    "import numpy as np\n",
    "import csv\n",
    "\n",
    "T = 30\n",
    "numGenerations = [186,193,195,190,195,197]\n",
    "output_filepath = './results.txt'\n"
   ]
  },
  {
   "cell_type": "code",
   "execution_count": null,
   "metadata": {},
   "outputs": [],
   "source": [
    "city_paths = [\"mtsp51.txt\",\"mtsp100.txt\",\"mtsp150.txt\",\"pr76.txt\",\"pr152.txt\",\"pr226.txt\"]\n",
    "# numGenerations = [105,109,110,107,110,111] # Generation number for baseline \n",
    "\n",
    "results_file = open(output_filepath,'a')\n",
    "\n",
    "from GA_for_mTSP.improved_baseline.main import ImporvedBaseline\n",
    "\n",
    "writer = csv.writer(results_file,delimiter=',')\n",
    "algorithm_name = \"baseline*\"\n",
    "\n",
    "for i in range(len(city_paths)):\n",
    "    city_path = city_paths[i]\n",
    "    city = np.genfromtxt('./instances/'+city_path, dtype=int, skip_header=1)\n",
    "\n",
    "\n",
    "    distances_baseline = [city_path, algorithm_name, \"distance\"]\n",
    "    time_baseline =  [city_path, algorithm_name, \"time\"]\n",
    "    count_baseline =  [city_path, algorithm_name, \"count\"]\n",
    "    \n",
    "    for k in range(T):\n",
    "        imporved_baseline = ImporvedBaseline(numGenerations=numGenerations[i],plot_progress=False,seedValue=k)\n",
    "        t,d,c = imporved_baseline.GA(city=city)\n",
    "        time_baseline.append(t)\n",
    "        distances_baseline.append(d)\n",
    "        count_baseline.append(c)\n",
    "        print(f\"epoch {k}, time cost: {t}, min distance: {d}, steps: {c}\")\n",
    "\n",
    "\n",
    "    writer.writerow(distances_baseline)\n",
    "    writer.writerow(time_baseline)\n",
    "    writer.writerow(count_baseline)\n",
    "    results_file.flush()\n",
    "\n",
    "\n",
    "results_file.close()\n",
    "\n",
    "\n"
   ]
  },
  {
   "cell_type": "code",
   "execution_count": 4,
   "metadata": {},
   "outputs": [
    {
     "name": "stderr",
     "output_type": "stream",
     "text": [
      "100% |########################################################################|\n",
      "  0% |                                                                        |\r"
     ]
    },
    {
     "name": "stdout",
     "output_type": "stream",
     "text": [
      "epoch 5, time cost: 98.30902489999971, min distance: 722061.4470280018, steps: 4508690\n",
      "Initial minimum distance: 1612946.52017037\n"
     ]
    },
    {
     "name": "stderr",
     "output_type": "stream",
     "text": [
      "100% |########################################################################|\n",
      "  0% |                                                                        |\r"
     ]
    },
    {
     "name": "stdout",
     "output_type": "stream",
     "text": [
      "epoch 6, time cost: 99.41418729999987, min distance: 801051.6291590165, steps: 4508690\n",
      "Initial minimum distance: 1607330.925474048\n"
     ]
    },
    {
     "name": "stderr",
     "output_type": "stream",
     "text": [
      "100% |########################################################################|\n",
      "  0% |                                                                        |\r"
     ]
    },
    {
     "name": "stdout",
     "output_type": "stream",
     "text": [
      "epoch 7, time cost: 99.49793059999956, min distance: 743060.3768752642, steps: 4508690\n",
      "Initial minimum distance: 1622333.916095128\n"
     ]
    },
    {
     "name": "stderr",
     "output_type": "stream",
     "text": [
      "100% |########################################################################|\n",
      "  0% |                                                                        |\r"
     ]
    },
    {
     "name": "stdout",
     "output_type": "stream",
     "text": [
      "epoch 8, time cost: 101.29744910000045, min distance: 704578.957415844, steps: 4508690\n",
      "Initial minimum distance: 1626111.4499241742\n"
     ]
    },
    {
     "name": "stderr",
     "output_type": "stream",
     "text": [
      "100% |########################################################################|\n",
      "  0% |                                                                        |\r"
     ]
    },
    {
     "name": "stdout",
     "output_type": "stream",
     "text": [
      "epoch 9, time cost: 98.63188580000042, min distance: 765881.4793658382, steps: 4508690\n",
      "Initial minimum distance: 1597611.8977971096\n"
     ]
    },
    {
     "name": "stderr",
     "output_type": "stream",
     "text": [
      "100% |########################################################################|\n",
      "  0% |                                                                        |\r"
     ]
    },
    {
     "name": "stdout",
     "output_type": "stream",
     "text": [
      "epoch 10, time cost: 97.9487680000002, min distance: 784372.2109294798, steps: 4508690\n",
      "Initial minimum distance: 1616209.3949181256\n"
     ]
    },
    {
     "name": "stderr",
     "output_type": "stream",
     "text": [
      "100% |########################################################################|\n",
      "  0% |                                                                        |\r"
     ]
    },
    {
     "name": "stdout",
     "output_type": "stream",
     "text": [
      "epoch 11, time cost: 98.79665610000029, min distance: 759306.1377989195, steps: 4508690\n",
      "Initial minimum distance: 1622680.465705723\n"
     ]
    },
    {
     "name": "stderr",
     "output_type": "stream",
     "text": [
      "100% |########################################################################|\n",
      "  0% |                                                                        |\r"
     ]
    },
    {
     "name": "stdout",
     "output_type": "stream",
     "text": [
      "epoch 12, time cost: 92.15753959999984, min distance: 814789.809100968, steps: 4508690\n",
      "Initial minimum distance: 1607818.8499002242\n"
     ]
    },
    {
     "name": "stderr",
     "output_type": "stream",
     "text": [
      "100% |########################################################################|\n",
      "  0% |                                                                        |\r"
     ]
    },
    {
     "name": "stdout",
     "output_type": "stream",
     "text": [
      "epoch 13, time cost: 91.0012484000008, min distance: 768346.043290924, steps: 4508690\n",
      "Initial minimum distance: 1577557.6582052384\n"
     ]
    },
    {
     "name": "stderr",
     "output_type": "stream",
     "text": [
      "100% |########################################################################|\n",
      "  0% |                                                                        |\r"
     ]
    },
    {
     "name": "stdout",
     "output_type": "stream",
     "text": [
      "epoch 14, time cost: 89.74852199999987, min distance: 771147.916343376, steps: 4508690\n",
      "Initial minimum distance: 1521414.6204058735\n"
     ]
    },
    {
     "name": "stderr",
     "output_type": "stream",
     "text": [
      "100% |########################################################################|\n",
      "  0% |                                                                        |\r"
     ]
    },
    {
     "name": "stdout",
     "output_type": "stream",
     "text": [
      "epoch 15, time cost: 90.14066490000005, min distance: 786076.8697437295, steps: 4508690\n",
      "Initial minimum distance: 1578809.6319619725\n"
     ]
    },
    {
     "name": "stderr",
     "output_type": "stream",
     "text": [
      "100% |########################################################################|\n",
      "  0% |                                                                        |\r"
     ]
    },
    {
     "name": "stdout",
     "output_type": "stream",
     "text": [
      "epoch 16, time cost: 91.39740989999973, min distance: 799632.752861841, steps: 4508690\n",
      "Initial minimum distance: 1616197.1631086443\n"
     ]
    },
    {
     "name": "stderr",
     "output_type": "stream",
     "text": [
      "100% |########################################################################|\n",
      "  0% |                                                                        |\r"
     ]
    },
    {
     "name": "stdout",
     "output_type": "stream",
     "text": [
      "epoch 17, time cost: 89.5323312999999, min distance: 742757.2647053939, steps: 4508690\n",
      "Initial minimum distance: 1641950.7848713167\n"
     ]
    },
    {
     "name": "stderr",
     "output_type": "stream",
     "text": [
      "100% |########################################################################|\n",
      "  0% |                                                                        |\r"
     ]
    },
    {
     "name": "stdout",
     "output_type": "stream",
     "text": [
      "epoch 18, time cost: 90.08822930000042, min distance: 712435.5038399859, steps: 4508690\n",
      "Initial minimum distance: 1585205.4844496662\n"
     ]
    },
    {
     "name": "stderr",
     "output_type": "stream",
     "text": [
      "100% |########################################################################|\n",
      "  0% |                                                                        |\r"
     ]
    },
    {
     "name": "stdout",
     "output_type": "stream",
     "text": [
      "epoch 19, time cost: 89.61501219999991, min distance: 726570.191947527, steps: 4508690\n",
      "Initial minimum distance: 1631168.8749627138\n"
     ]
    },
    {
     "name": "stderr",
     "output_type": "stream",
     "text": [
      "100% |########################################################################|\n",
      "  0% |                                                                        |\r"
     ]
    },
    {
     "name": "stdout",
     "output_type": "stream",
     "text": [
      "epoch 20, time cost: 89.60333590000027, min distance: 745943.3247991985, steps: 4508690\n",
      "Initial minimum distance: 1625316.2256508488\n"
     ]
    },
    {
     "name": "stderr",
     "output_type": "stream",
     "text": [
      "100% |########################################################################|\n",
      "  0% |                                                                        |\r"
     ]
    },
    {
     "name": "stdout",
     "output_type": "stream",
     "text": [
      "epoch 21, time cost: 89.97206470000037, min distance: 765177.2576648758, steps: 4508690\n",
      "Initial minimum distance: 1593496.7625791535\n"
     ]
    },
    {
     "name": "stderr",
     "output_type": "stream",
     "text": [
      "100% |########################################################################|\n",
      "  0% |                                                                        |\r"
     ]
    },
    {
     "name": "stdout",
     "output_type": "stream",
     "text": [
      "epoch 22, time cost: 89.85901049999939, min distance: 846548.3732093878, steps: 4508690\n",
      "Initial minimum distance: 1630538.1117112043\n"
     ]
    },
    {
     "name": "stderr",
     "output_type": "stream",
     "text": [
      "100% |########################################################################|\n",
      "  0% |                                                                        |\r"
     ]
    },
    {
     "name": "stdout",
     "output_type": "stream",
     "text": [
      "epoch 23, time cost: 89.60649360000025, min distance: 735440.0651955316, steps: 4508690\n",
      "Initial minimum distance: 1603682.448696285\n"
     ]
    },
    {
     "name": "stderr",
     "output_type": "stream",
     "text": [
      "100% |########################################################################|\n",
      "  0% |                                                                        |\r"
     ]
    },
    {
     "name": "stdout",
     "output_type": "stream",
     "text": [
      "epoch 24, time cost: 90.81365509999978, min distance: 724060.514146169, steps: 4508690\n",
      "Initial minimum distance: 1573589.2172841418\n"
     ]
    },
    {
     "name": "stderr",
     "output_type": "stream",
     "text": [
      "100% |########################################################################|\n",
      "  0% |                                                                        |\r"
     ]
    },
    {
     "name": "stdout",
     "output_type": "stream",
     "text": [
      "epoch 25, time cost: 89.38715439999942, min distance: 749226.1680755166, steps: 4508690\n",
      "Initial minimum distance: 1634175.451584154\n"
     ]
    },
    {
     "name": "stderr",
     "output_type": "stream",
     "text": [
      "100% |########################################################################|\n",
      "  0% |                                                                        |\r"
     ]
    },
    {
     "name": "stdout",
     "output_type": "stream",
     "text": [
      "epoch 26, time cost: 89.56006460000026, min distance: 677988.811646431, steps: 4508690\n",
      "Initial minimum distance: 1583790.4489673453\n"
     ]
    },
    {
     "name": "stderr",
     "output_type": "stream",
     "text": [
      "100% |########################################################################|\n",
      "  0% |                                                                        |\r"
     ]
    },
    {
     "name": "stdout",
     "output_type": "stream",
     "text": [
      "epoch 27, time cost: 90.10299420000047, min distance: 762665.6097177574, steps: 4508690\n",
      "Initial minimum distance: 1642591.7391129925\n"
     ]
    },
    {
     "name": "stderr",
     "output_type": "stream",
     "text": [
      "100% |########################################################################|\n",
      "  0% |                                                                        |\r"
     ]
    },
    {
     "name": "stdout",
     "output_type": "stream",
     "text": [
      "epoch 28, time cost: 90.02149699999973, min distance: 772599.9949863803, steps: 4508690\n",
      "Initial minimum distance: 1631092.5977167503\n"
     ]
    },
    {
     "name": "stderr",
     "output_type": "stream",
     "text": [
      "100% |########################################################################|\r"
     ]
    },
    {
     "name": "stdout",
     "output_type": "stream",
     "text": [
      "epoch 29, time cost: 90.60981959999935, min distance: 747972.355175345, steps: 4508690\n"
     ]
    },
    {
     "name": "stderr",
     "output_type": "stream",
     "text": [
      "\n"
     ]
    }
   ],
   "source": [
    "numGenerations = [186,193,195,190,195,197]\n",
    "\n",
    "\n",
    "city_paths = [\"mtsp51.txt\",\"mtsp100.txt\",\"mtsp150.txt\",\"pr76.txt\",\"pr152.txt\",\"pr226.txt\"]\n",
    "# numGenerations = [105,109,110,107,110,111] # Generation number for baseline \n",
    "\n",
    "results_file = open(output_filepath,'a')\n",
    "\n",
    "from GA_for_mTSP.ours.main import MultiChromosome\n",
    "\n",
    "writer = csv.writer(results_file,delimiter=',')\n",
    "algorithm_name = \"ours\"\n",
    "\n",
    "for i in range(len(city_paths)):\n",
    "    city_path = city_paths[i]\n",
    "    city = np.genfromtxt('./instances/'+city_path, dtype=int, skip_header=1)\n",
    "\n",
    "\n",
    "    distances_our = [city_path, algorithm_name, \"distance\"]\n",
    "    time_our =  [city_path, algorithm_name, \"time\"]\n",
    "    count_our =  [city_path, algorithm_name, \"count\"]\n",
    "    \n",
    "    for k in range(T):\n",
    "        ours = MultiChromosome(numGenerations=numGenerations[i],plot_progress=False,seedValue=k,plot_result = False)\n",
    "        t,d,c = ours.GA(city=city)\n",
    "        time_our.append(t)\n",
    "        distances_our.append(d)\n",
    "        count_our.append(c)\n",
    "        print(f\"epoch {k}, time cost: {t}, min distance: {d}, steps: {c}\")\n",
    "\n",
    "\n",
    "    writer.writerow(distances_our)\n",
    "    writer.writerow(time_our)\n",
    "    writer.writerow(count_our)\n",
    "    results_file.flush()\n",
    "\n",
    "\n",
    "results_file.close()\n"
   ]
  },
  {
   "cell_type": "code",
   "execution_count": null,
   "metadata": {},
   "outputs": [],
   "source": [
    "\n"
   ]
  }
 ],
 "metadata": {
  "interpreter": {
   "hash": "775eff912bf67072a4d32c22564e83ff44c920edb44d0fdcc746e8f711b0690b"
  },
  "kernelspec": {
   "display_name": "Python 3.8.11 64-bit ('torch': conda)",
   "language": "python",
   "name": "python3"
  },
  "language_info": {
   "codemirror_mode": {
    "name": "ipython",
    "version": 3
   },
   "file_extension": ".py",
   "mimetype": "text/x-python",
   "name": "python",
   "nbconvert_exporter": "python",
   "pygments_lexer": "ipython3",
   "version": "3.8.12"
  },
  "orig_nbformat": 4
 },
 "nbformat": 4,
 "nbformat_minor": 2
}
