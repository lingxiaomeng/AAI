{
 "cells": [
  {
   "cell_type": "code",
   "execution_count": null,
   "metadata": {},
   "outputs": [],
   "source": [
    "%matplotlib inline\n",
    "import numpy as np\n",
    "import csv\n",
    "\n",
    "T = 30\n"
   ]
  },
  {
   "cell_type": "code",
   "execution_count": null,
   "metadata": {},
   "outputs": [],
   "source": [
    "city_paths = [\"mtsp51.txt\",\"mtsp100.txt\",\"mtsp150.txt\",\"pr76.txt\",\"pr152.txt\",\"pr226.txt\"]\n",
    "\n",
    "\n",
    "results_file = open('./results.txt','a')\n",
    "\n",
    "from GA_for_mTSP.improved_baseline.main import ImporvedBaseline\n",
    "\n",
    "writer = csv.writer(results_file,delimiter=',')\n",
    "\n",
    "for city_path in city_paths:\n",
    "    city = np.genfromtxt('./instances/'+city_path, dtype=int, skip_header=1)\n",
    "    distances_baseline = [city_path, \"baseline\", \"distances\"]\n",
    "    time_baseline =  [city_path, \"baseline\", \"time\"]\n",
    "    count_baseline =  [city_path, \"baseline\", \"count\"]\n",
    "    \n",
    "    for i in range(T):\n",
    "        imporved_baseline = ImporvedBaseline(numGenerations=105,plot_progress=False,seedValue=i)\n",
    "        t,d,c = imporved_baseline.GA(city=city)\n",
    "        time_baseline.append(t)\n",
    "        distances_baseline.append(d)\n",
    "        count_baseline.append(c)\n",
    "        print(f\"epoch {i}, time cost: {t}, min distance: {d}\")\n",
    "\n",
    "\n",
    "    writer.writerow(distances_baseline)\n",
    "    writer.writerow(time_baseline)\n",
    "    writer.writerow(count_baseline)\n",
    "    results_file.flush()\n",
    "\n",
    "\n",
    "results_file.close()\n",
    "\n",
    "\n"
   ]
  },
  {
   "cell_type": "code",
   "execution_count": null,
   "metadata": {},
   "outputs": [],
   "source": [
    "city_paths = [\"mtsp51.txt\",\"mtsp100.txt\",\"mtsp150.txt\",\"pr76.txt\",\"pr152.txt\",\"pr226.txt\"]\n",
    "\n",
    "\n",
    "results_file = open('./results.txt','a')\n",
    "\n",
    "from GA_for_mTSP.muti_ch.main import MultiChromosome\n",
    "\n",
    "writer = csv.writer(results_file,delimiter=',')\n",
    "\n",
    "for city_path in city_paths:\n",
    "    city = np.genfromtxt('./instances/'+city_path, dtype=int, skip_header=1)\n",
    "    distances_ours = [city_path, \"ours\", \"distances\"]\n",
    "    time_ours =  [city_path, \"ours\", \"time\"]\n",
    "    count_ours =  [city_path, \"ours\", \"count\"]\n",
    "    \n",
    "    for i in range(T):\n",
    "        ours = MultiChromosome(numGenerations=105,plot_progress=False,seedValue=i)\n",
    "        t,d,c = ours.GA(city=city)\n",
    "        distances_ours.append(d)\n",
    "        time_ours.append(t)\n",
    "        count_ours.append(c)\n",
    "        print(f\"epoch {i}, time cost: {t}, min distance: {d}\")\n",
    "\n",
    "\n",
    "    writer.writerow(distances_ours)\n",
    "    writer.writerow(time_ours)\n",
    "    writer.writerow(count_ours)\n",
    "    results_file.flush()\n",
    "\n",
    "\n",
    "results_file.close()"
   ]
  },
  {
   "cell_type": "code",
   "execution_count": null,
   "metadata": {},
   "outputs": [],
   "source": [
    "\n"
   ]
  }
 ],
 "metadata": {
  "interpreter": {
   "hash": "775eff912bf67072a4d32c22564e83ff44c920edb44d0fdcc746e8f711b0690b"
  },
  "kernelspec": {
   "display_name": "Python 3.8.11 64-bit ('torch': conda)",
   "language": "python",
   "name": "python3"
  },
  "language_info": {
   "codemirror_mode": {
    "name": "ipython",
    "version": 3
   },
   "file_extension": ".py",
   "mimetype": "text/x-python",
   "name": "python",
   "nbconvert_exporter": "python",
   "pygments_lexer": "ipython3",
   "version": "3.8.12"
  },
  "orig_nbformat": 4
 },
 "nbformat": 4,
 "nbformat_minor": 2
}
