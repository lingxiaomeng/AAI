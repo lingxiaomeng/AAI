{
 "cells": [
  {
   "cell_type": "code",
   "execution_count": 2,
   "metadata": {},
   "outputs": [
    {
     "name": "stdout",
     "output_type": "stream",
     "text": [
      "Initial minimum distance: 955.3958395053237\n"
     ]
    },
    {
     "data": {
      "application/vnd.jupyter.widget-view+json": {
       "model_id": "c23e5f2792d34c7f9b3a5e3eb1b7da7f",
       "version_major": 2,
       "version_minor": 0
      },
      "text/plain": [
       "Canvas(toolbar=Toolbar(toolitems=[('Home', 'Reset original view', 'home', 'home'), ('Back', 'Back to previous …"
      ]
     },
     "metadata": {},
     "output_type": "display_data"
    }
   ],
   "source": [
    "%matplotlib inline\n",
    "import numpy as np\n",
    "from GA_for_mTSP.improved_baseline.main import ImporvedBaseline\n",
    "city_path = \"./instances/mtsp51.txt\"\n",
    "city = np.genfromtxt(city_path, dtype=int, skip_header=1)\n",
    "\n",
    "numNodes = len(city)\n",
    "\n",
    "imporved_baseline = ImporvedBaseline(numGenerations=100,plot_progress=True,seedValue=1)\n",
    "d = imporved_baseline.GA(city=city)\n",
    "print(d)"
   ]
  }
 ],
 "metadata": {
  "interpreter": {
   "hash": "775eff912bf67072a4d32c22564e83ff44c920edb44d0fdcc746e8f711b0690b"
  },
  "kernelspec": {
   "display_name": "Python 3.8.11 64-bit ('torch': conda)",
   "language": "python",
   "name": "python3"
  },
  "language_info": {
   "codemirror_mode": {
    "name": "ipython",
    "version": 3
   },
   "file_extension": ".py",
   "mimetype": "text/x-python",
   "name": "python",
   "nbconvert_exporter": "python",
   "pygments_lexer": "ipython3",
   "version": "3.8.12"
  },
  "orig_nbformat": 4
 },
 "nbformat": 4,
 "nbformat_minor": 2
}
