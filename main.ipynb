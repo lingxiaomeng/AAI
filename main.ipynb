{
 "cells": [
  {
   "cell_type": "code",
   "execution_count": 1,
   "metadata": {},
   "outputs": [],
   "source": [
    "%matplotlib inline\n",
    "import numpy as np\n",
    "import csv\n",
    "\n",
    "T = 1\n",
    "output_filepath = './test.txt'\n",
    "plot_result = True"
   ]
  },
  {
   "cell_type": "code",
   "execution_count": null,
   "metadata": {},
   "outputs": [],
   "source": [
    "instances = [\"mtsp51\",\"mtsp100\",\"mtsp150\",\"pr76\",\"pr152\",\"pr226\"]\n",
    "# numGenerations = [105,109,110,107,110,111] # Generation number for baseline \n",
    "numGenerations = [105,109,110,107,110,111] # Generation number for original \n",
    "\n",
    "results_file = open(output_filepath,'a')\n",
    "\n",
    "from GA_for_mTSP.improved_baseline.main import ImporvedBaseline\n",
    "\n",
    "writer = csv.writer(results_file,delimiter=',')\n",
    "algorithm_name = \"baseline\"\n",
    "\n",
    "for i in range(len(instances)):\n",
    "    instance = instances[i]\n",
    "    city = np.genfromtxt('./instances/'+instance+'.txt', dtype=int, skip_header=1)\n",
    "\n",
    "\n",
    "    distances_baseline = [instance, algorithm_name, \"distance\"]\n",
    "    time_baseline =  [instance, algorithm_name, \"time\"]\n",
    "    count_baseline =  [instance, algorithm_name, \"count\"]\n",
    "    \n",
    "    for k in range(T):\n",
    "        imporved_baseline = ImporvedBaseline(numGenerations=numGenerations[i]+1,plot_progress=False,seedValue=k,plot_result = plot_result)\n",
    "        t,d,c = imporved_baseline.GA(city=city)\n",
    "        time_baseline.append(t)\n",
    "        distances_baseline.append(d)\n",
    "        count_baseline.append(c)\n",
    "        print(f\"epoch {k}, time cost: {t}, min distance: {d}, steps: {c}\")\n",
    "\n",
    "\n",
    "    writer.writerow(distances_baseline)\n",
    "    writer.writerow(time_baseline)\n",
    "    writer.writerow(count_baseline)\n",
    "    results_file.flush()\n",
    "\n",
    "\n",
    "results_file.close()\n",
    "\n",
    "\n"
   ]
  },
  {
   "cell_type": "code",
   "execution_count": null,
   "metadata": {},
   "outputs": [],
   "source": [
    "numGenerations = [186,193,195,190,195,197] # Generation number for modified \n",
    "# numGenerations = [105,109,110,107,110,111] # Generation number for original \n",
    "\n",
    "\n",
    "instances = [\"mtsp51\",\"mtsp100\",\"mtsp150\",\"pr76\",\"pr152\",\"pr226\"]\n",
    "\n",
    "results_file = open(output_filepath,'a')\n",
    "\n",
    "from GA_for_mTSP.ours.main import MultiChromosome\n",
    "\n",
    "writer = csv.writer(results_file,delimiter=',')\n",
    "algorithm_name = \"ours_nocrossover\"\n",
    "\n",
    "for i in range(len(instances)):\n",
    "    instance = instances[i]\n",
    "    city = np.genfromtxt('./instances/'+instance+'.txt', dtype=int, skip_header=1)\n",
    "    distances_our = [instance, algorithm_name, \"distance\"]\n",
    "    time_our =  [instance, algorithm_name, \"time\"]\n",
    "    count_our =  [instance, algorithm_name, \"count\"]\n",
    "    \n",
    "    for k in range(T):\n",
    "        ours = MultiChromosome(numGenerations=numGenerations[i],plot_progress=False,seedValue=k,plot_result = plot_result)\n",
    "        t,d,c = ours.GA(city=city)\n",
    "        time_our.append(t)\n",
    "        distances_our.append(d)\n",
    "        count_our.append(c)\n",
    "        print(f\"epoch {k}, time cost: {t}, min distance: {d}, steps: {c}\")\n",
    "\n",
    "\n",
    "    writer.writerow(distances_our)\n",
    "    writer.writerow(time_our)\n",
    "    writer.writerow(count_our)\n",
    "    results_file.flush()\n",
    "\n",
    "\n",
    "results_file.close()\n"
   ]
  },
  {
   "cell_type": "code",
   "execution_count": null,
   "metadata": {},
   "outputs": [],
   "source": [
    "\n"
   ]
  }
 ],
 "metadata": {
  "interpreter": {
   "hash": "775eff912bf67072a4d32c22564e83ff44c920edb44d0fdcc746e8f711b0690b"
  },
  "kernelspec": {
   "display_name": "Python 3.8.11 64-bit ('torch': conda)",
   "language": "python",
   "name": "python3"
  },
  "language_info": {
   "codemirror_mode": {
    "name": "ipython",
    "version": 3
   },
   "file_extension": ".py",
   "mimetype": "text/x-python",
   "name": "python",
   "nbconvert_exporter": "python",
   "pygments_lexer": "ipython3",
   "version": "3.8.12"
  },
  "orig_nbformat": 4
 },
 "nbformat": 4,
 "nbformat_minor": 2
}
