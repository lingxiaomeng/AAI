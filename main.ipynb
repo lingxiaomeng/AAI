{
 "cells": [
  {
   "cell_type": "code",
   "execution_count": 1,
   "metadata": {},
   "outputs": [
    {
     "name": "stderr",
     "output_type": "stream",
     "text": [
      "  1% |#                                                                       |\r"
     ]
    },
    {
     "name": "stdout",
     "output_type": "stream",
     "text": [
      "Initial minimum distance: 1515.579282151414\n"
     ]
    },
    {
     "name": "stderr",
     "output_type": "stream",
     "text": [
      "100% |########################################################################|\n",
      "  1% |#                                                                       |\r"
     ]
    },
    {
     "name": "stdout",
     "output_type": "stream",
     "text": [
      "Count: 1017390 Remain steps: 2610\n",
      "Global minimum distance: 891.1857026659956\n",
      "6.2759265 891.1857026659956\n",
      "Initial minimum distance: 1521.0828871684384\n"
     ]
    },
    {
     "name": "stderr",
     "output_type": "stream",
     "text": [
      "100% |########################################################################|\n",
      "  1% |#                                                                       |\r"
     ]
    },
    {
     "name": "stdout",
     "output_type": "stream",
     "text": [
      "Count: 1017775 Remain steps: 2225\n",
      "Global minimum distance: 862.1554377164889\n",
      "6.2972256 862.1554377164889\n",
      "Initial minimum distance: 1503.9371403399616\n"
     ]
    },
    {
     "name": "stderr",
     "output_type": "stream",
     "text": [
      "100% |########################################################################|\n",
      "  1% |#                                                                       |\r"
     ]
    },
    {
     "name": "stdout",
     "output_type": "stream",
     "text": [
      "Count: 1016730 Remain steps: 3270\n",
      "Global minimum distance: 906.0923202991264\n",
      "6.414603699999999 906.0923202991264\n",
      "Initial minimum distance: 1530.1819251139561\n"
     ]
    },
    {
     "name": "stderr",
     "output_type": "stream",
     "text": [
      "100% |########################################################################|\n",
      "  1% |#                                                                       |\r"
     ]
    },
    {
     "name": "stdout",
     "output_type": "stream",
     "text": [
      "Count: 1018490 Remain steps: 1510\n",
      "Global minimum distance: 901.6167927937462\n",
      "6.218818899999999 901.6167927937462\n",
      "Initial minimum distance: 1531.56833343665\n"
     ]
    },
    {
     "name": "stderr",
     "output_type": "stream",
     "text": [
      "100% |########################################################################|\n",
      "  1% |#                                                                       |\r"
     ]
    },
    {
     "name": "stdout",
     "output_type": "stream",
     "text": [
      "Count: 1017555 Remain steps: 2445\n",
      "Global minimum distance: 902.2626732269656\n",
      "6.208447799999998 902.2626732269656\n",
      "Initial minimum distance: 1536.557251884889\n"
     ]
    },
    {
     "name": "stderr",
     "output_type": "stream",
     "text": [
      "100% |########################################################################|\n",
      "  1% |#                                                                       |\r"
     ]
    },
    {
     "name": "stdout",
     "output_type": "stream",
     "text": [
      "Count: 1017005 Remain steps: 2995\n",
      "Global minimum distance: 871.9742529184562\n",
      "6.217182399999999 871.9742529184562\n",
      "Initial minimum distance: 1476.5641381333642\n"
     ]
    },
    {
     "name": "stderr",
     "output_type": "stream",
     "text": [
      "100% |########################################################################|\n",
      "  1% |#                                                                       |\r"
     ]
    },
    {
     "name": "stdout",
     "output_type": "stream",
     "text": [
      "Count: 1017060 Remain steps: 2940\n",
      "Global minimum distance: 884.3951992349025\n",
      "6.2818254999999965 884.3951992349025\n",
      "Initial minimum distance: 1467.8319786893976\n"
     ]
    },
    {
     "name": "stderr",
     "output_type": "stream",
     "text": [
      "100% |########################################################################|\n",
      "  1% |#                                                                       |\r"
     ]
    },
    {
     "name": "stdout",
     "output_type": "stream",
     "text": [
      "Count: 1017775 Remain steps: 2225\n",
      "Global minimum distance: 929.0261828872826\n",
      "6.275686200000003 929.0261828872826\n",
      "Initial minimum distance: 1504.3310431916675\n"
     ]
    },
    {
     "name": "stderr",
     "output_type": "stream",
     "text": [
      "100% |########################################################################|\n",
      "  1% |#                                                                       |\r"
     ]
    },
    {
     "name": "stdout",
     "output_type": "stream",
     "text": [
      "Count: 1017280 Remain steps: 2720\n",
      "Global minimum distance: 907.6422041311821\n",
      "6.190014300000001 907.6422041311821\n",
      "Initial minimum distance: 1559.975857451839\n"
     ]
    },
    {
     "name": "stderr",
     "output_type": "stream",
     "text": [
      "100% |########################################################################|\n",
      "  1% |#                                                                       |\r"
     ]
    },
    {
     "name": "stdout",
     "output_type": "stream",
     "text": [
      "Count: 1017445 Remain steps: 2555\n",
      "Global minimum distance: 868.064860283103\n",
      "6.2262822 868.064860283103\n",
      "Initial minimum distance: 1491.233287831495\n"
     ]
    },
    {
     "name": "stderr",
     "output_type": "stream",
     "text": [
      "100% |########################################################################|\n",
      "  1% |#                                                                       |\r"
     ]
    },
    {
     "name": "stdout",
     "output_type": "stream",
     "text": [
      "Count: 1017995 Remain steps: 2005\n",
      "Global minimum distance: 921.4270071815843\n",
      "6.347064700000004 921.4270071815843\n",
      "Initial minimum distance: 1587.2310251943395\n"
     ]
    },
    {
     "name": "stderr",
     "output_type": "stream",
     "text": [
      "100% |########################################################################|\n",
      "  1% |#                                                                       |\r"
     ]
    },
    {
     "name": "stdout",
     "output_type": "stream",
     "text": [
      "Count: 1017170 Remain steps: 2830\n",
      "Global minimum distance: 824.9787455584585\n",
      "6.245749500000002 824.9787455584585\n",
      "Initial minimum distance: 1485.5191714791506\n"
     ]
    },
    {
     "name": "stderr",
     "output_type": "stream",
     "text": [
      "100% |########################################################################|\n",
      "  1% |#                                                                       |\r"
     ]
    },
    {
     "name": "stdout",
     "output_type": "stream",
     "text": [
      "Count: 1017335 Remain steps: 2665\n",
      "Global minimum distance: 894.2193411658277\n",
      "6.126147700000004 894.2193411658277\n",
      "Initial minimum distance: 1509.9814006116592\n"
     ]
    },
    {
     "name": "stderr",
     "output_type": "stream",
     "text": [
      "100% |########################################################################|\n",
      "  1% |#                                                                       |\r"
     ]
    },
    {
     "name": "stdout",
     "output_type": "stream",
     "text": [
      "Count: 1015355 Remain steps: 4645\n",
      "Global minimum distance: 820.4476686769042\n",
      "6.2356841 820.4476686769042\n",
      "Initial minimum distance: 1500.6819668825954\n"
     ]
    },
    {
     "name": "stderr",
     "output_type": "stream",
     "text": [
      "100% |########################################################################|\n",
      "  1% |#                                                                       |\r"
     ]
    },
    {
     "name": "stdout",
     "output_type": "stream",
     "text": [
      "Count: 1017940 Remain steps: 2060\n",
      "Global minimum distance: 861.2459502081628\n",
      "6.1894578 861.2459502081628\n",
      "Initial minimum distance: 1553.6898118228828\n"
     ]
    },
    {
     "name": "stderr",
     "output_type": "stream",
     "text": [
      "100% |########################################################################|\n",
      "  1% |#                                                                       |\r"
     ]
    },
    {
     "name": "stdout",
     "output_type": "stream",
     "text": [
      "Count: 1017995 Remain steps: 2005\n",
      "Global minimum distance: 857.5756758517036\n",
      "6.319591599999995 857.5756758517036\n",
      "Initial minimum distance: 1465.2812001249363\n"
     ]
    },
    {
     "name": "stderr",
     "output_type": "stream",
     "text": [
      "100% |########################################################################|\n",
      "  1% |#                                                                       |\r"
     ]
    },
    {
     "name": "stdout",
     "output_type": "stream",
     "text": [
      "Count: 1016895 Remain steps: 3105\n",
      "Global minimum distance: 884.3112384979139\n",
      "6.1372535 884.3112384979139\n",
      "Initial minimum distance: 1478.6456918625674\n"
     ]
    },
    {
     "name": "stderr",
     "output_type": "stream",
     "text": [
      "100% |########################################################################|\n",
      "  1% |#                                                                       |\r"
     ]
    },
    {
     "name": "stdout",
     "output_type": "stream",
     "text": [
      "Count: 1017115 Remain steps: 2885\n",
      "Global minimum distance: 874.6936379614282\n",
      "6.215449399999997 874.6936379614282\n",
      "Initial minimum distance: 1536.5879722422944\n"
     ]
    },
    {
     "name": "stderr",
     "output_type": "stream",
     "text": [
      "100% |########################################################################|\n",
      "  1% |#                                                                       |\r"
     ]
    },
    {
     "name": "stdout",
     "output_type": "stream",
     "text": [
      "Count: 1016290 Remain steps: 3710\n",
      "Global minimum distance: 904.7011130808752\n",
      "6.0729769000000005 904.7011130808752\n",
      "Initial minimum distance: 1529.4690787775914\n"
     ]
    },
    {
     "name": "stderr",
     "output_type": "stream",
     "text": [
      "100% |########################################################################|\n",
      "  1% |#                                                                       |\r"
     ]
    },
    {
     "name": "stdout",
     "output_type": "stream",
     "text": [
      "Count: 1019150 Remain steps: 850\n",
      "Global minimum distance: 887.9966383601964\n",
      "6.098397599999998 887.9966383601964\n",
      "Initial minimum distance: 1560.8440231752622\n"
     ]
    },
    {
     "name": "stderr",
     "output_type": "stream",
     "text": [
      "100% |########################################################################|\n",
      "  1% |#                                                                       |\r"
     ]
    },
    {
     "name": "stdout",
     "output_type": "stream",
     "text": [
      "Count: 1015520 Remain steps: 4480\n",
      "Global minimum distance: 846.7715988765199\n",
      "6.35803039999999 846.7715988765199\n",
      "Initial minimum distance: 1499.4659861186626\n"
     ]
    },
    {
     "name": "stderr",
     "output_type": "stream",
     "text": [
      "100% |########################################################################|\n",
      "  1% |#                                                                       |\r"
     ]
    },
    {
     "name": "stdout",
     "output_type": "stream",
     "text": [
      "Count: 1017445 Remain steps: 2555\n",
      "Global minimum distance: 925.0682713790375\n",
      "6.308792699999998 925.0682713790375\n",
      "Initial minimum distance: 1473.8253060487568\n"
     ]
    },
    {
     "name": "stderr",
     "output_type": "stream",
     "text": [
      "100% |########################################################################|\n",
      "  1% |#                                                                       |\r"
     ]
    },
    {
     "name": "stdout",
     "output_type": "stream",
     "text": [
      "Count: 1016510 Remain steps: 3490\n",
      "Global minimum distance: 953.9664386802394\n",
      "6.201622299999997 953.9664386802394\n",
      "Initial minimum distance: 1533.249126712806\n"
     ]
    },
    {
     "name": "stderr",
     "output_type": "stream",
     "text": [
      "100% |########################################################################|\n",
      "  1% |#                                                                       |\r"
     ]
    },
    {
     "name": "stdout",
     "output_type": "stream",
     "text": [
      "Count: 1016565 Remain steps: 3435\n",
      "Global minimum distance: 851.6324333176785\n",
      "6.286899799999986 851.6324333176785\n",
      "Initial minimum distance: 1526.1367948431734\n"
     ]
    },
    {
     "name": "stderr",
     "output_type": "stream",
     "text": [
      "100% |########################################################################|\n",
      "  1% |#                                                                       |\r"
     ]
    },
    {
     "name": "stdout",
     "output_type": "stream",
     "text": [
      "Count: 1017335 Remain steps: 2665\n",
      "Global minimum distance: 810.6111131316263\n",
      "6.249524100000002 810.6111131316263\n",
      "Initial minimum distance: 1493.75580073262\n"
     ]
    },
    {
     "name": "stderr",
     "output_type": "stream",
     "text": [
      "100% |########################################################################|\n",
      "  1% |#                                                                       |\r"
     ]
    },
    {
     "name": "stdout",
     "output_type": "stream",
     "text": [
      "Count: 1016290 Remain steps: 3710\n",
      "Global minimum distance: 911.1780916647514\n",
      "6.241659699999985 911.1780916647514\n",
      "Initial minimum distance: 1462.8536278402953\n"
     ]
    },
    {
     "name": "stderr",
     "output_type": "stream",
     "text": [
      "100% |########################################################################|\n",
      "  1% |#                                                                       |\r"
     ]
    },
    {
     "name": "stdout",
     "output_type": "stream",
     "text": [
      "Count: 1018655 Remain steps: 1345\n",
      "Global minimum distance: 863.8362464146957\n",
      "6.35435750000002 863.8362464146957\n",
      "Initial minimum distance: 1501.1713904135497\n"
     ]
    },
    {
     "name": "stderr",
     "output_type": "stream",
     "text": [
      "100% |########################################################################|\n",
      "  1% |#                                                                       |\r"
     ]
    },
    {
     "name": "stdout",
     "output_type": "stream",
     "text": [
      "Count: 1017830 Remain steps: 2170\n",
      "Global minimum distance: 919.4835557039006\n",
      "6.141378700000018 919.4835557039006\n",
      "Initial minimum distance: 1524.6075415901807\n"
     ]
    },
    {
     "name": "stderr",
     "output_type": "stream",
     "text": [
      "100% |########################################################################|\n",
      "  1% |#                                                                       |\r"
     ]
    },
    {
     "name": "stdout",
     "output_type": "stream",
     "text": [
      "Count: 1018270 Remain steps: 1730\n",
      "Global minimum distance: 858.6789614584465\n",
      "6.3312065000000075 858.6789614584465\n",
      "Initial minimum distance: 1524.9352806190504\n"
     ]
    },
    {
     "name": "stderr",
     "output_type": "stream",
     "text": [
      "100% |########################################################################|\n",
      "  0% |                                                                        |\r"
     ]
    },
    {
     "name": "stdout",
     "output_type": "stream",
     "text": [
      "Count: 1015630 Remain steps: 4370\n",
      "Global minimum distance: 933.4808013752798\n",
      "6.204333800000001 933.4808013752798\n",
      "Initial minimum distance: 151558.56565090272\n"
     ]
    },
    {
     "name": "stderr",
     "output_type": "stream",
     "text": [
      "100% |########################################################################|\n",
      "  0% |                                                                        |\r"
     ]
    },
    {
     "name": "stdout",
     "output_type": "stream",
     "text": [
      "Count: 1920360 Remain steps: 79640\n",
      "Global minimum distance: 80947.26142289357\n",
      "13.784871899999985 80947.26142289357\n",
      "Initial minimum distance: 147092.64882502475\n"
     ]
    },
    {
     "name": "stderr",
     "output_type": "stream",
     "text": [
      "100% |########################################################################|\n",
      "  0% |                                                                        |\r"
     ]
    },
    {
     "name": "stdout",
     "output_type": "stream",
     "text": [
      "Count: 1923584 Remain steps: 76416\n",
      "Global minimum distance: 80881.82707082771\n",
      "14.041865699999988 80881.82707082771\n",
      "Initial minimum distance: 150788.31630928494\n"
     ]
    },
    {
     "name": "stderr",
     "output_type": "stream",
     "text": [
      "100% |########################################################################|\n",
      "  0% |                                                                        |\r"
     ]
    },
    {
     "name": "stdout",
     "output_type": "stream",
     "text": [
      "Count: 1923168 Remain steps: 76832\n",
      "Global minimum distance: 82708.62438908638\n",
      "13.720100799999983 82708.62438908638\n",
      "Initial minimum distance: 156116.63501239964\n"
     ]
    },
    {
     "name": "stderr",
     "output_type": "stream",
     "text": [
      "100% |########################################################################|\n",
      "  0% |                                                                        |\r"
     ]
    },
    {
     "name": "stdout",
     "output_type": "stream",
     "text": [
      "Count: 1923480 Remain steps: 76520\n",
      "Global minimum distance: 78846.32995246079\n",
      "13.935252999999989 78846.32995246079\n",
      "Initial minimum distance: 150069.22402079985\n"
     ]
    },
    {
     "name": "stderr",
     "output_type": "stream",
     "text": [
      "100% |########################################################################|\n",
      "  0% |                                                                        |\r"
     ]
    },
    {
     "name": "stdout",
     "output_type": "stream",
     "text": [
      "Count: 1922336 Remain steps: 77664\n",
      "Global minimum distance: 77742.19677226245\n",
      "13.966067199999998 77742.19677226245\n",
      "Initial minimum distance: 140560.15371983705\n"
     ]
    },
    {
     "name": "stderr",
     "output_type": "stream",
     "text": [
      "100% |########################################################################|\n",
      "  0% |                                                                        |\r"
     ]
    },
    {
     "name": "stdout",
     "output_type": "stream",
     "text": [
      "Count: 1923480 Remain steps: 76520\n",
      "Global minimum distance: 82044.61366322354\n",
      "14.72388460000002 82044.61366322354\n",
      "Initial minimum distance: 154831.29840327962\n"
     ]
    },
    {
     "name": "stderr",
     "output_type": "stream",
     "text": [
      "100% |########################################################################|\n",
      "  0% |                                                                        |\r"
     ]
    },
    {
     "name": "stdout",
     "output_type": "stream",
     "text": [
      "Count: 1924104 Remain steps: 75896\n",
      "Global minimum distance: 87763.93247092905\n",
      "14.282091900000012 87763.93247092905\n",
      "Initial minimum distance: 153254.98163588342\n"
     ]
    },
    {
     "name": "stderr",
     "output_type": "stream",
     "text": [
      "100% |########################################################################|\n",
      "  0% |                                                                        |\r"
     ]
    },
    {
     "name": "stdout",
     "output_type": "stream",
     "text": [
      "Count: 1921296 Remain steps: 78704\n",
      "Global minimum distance: 84983.0628636706\n",
      "13.998097200000018 84983.0628636706\n",
      "Initial minimum distance: 152147.83168282526\n"
     ]
    },
    {
     "name": "stderr",
     "output_type": "stream",
     "text": [
      "100% |########################################################################|\n",
      "  0% |                                                                        |\r"
     ]
    },
    {
     "name": "stdout",
     "output_type": "stream",
     "text": [
      "Count: 1920568 Remain steps: 79432\n",
      "Global minimum distance: 78146.19074263719\n",
      "14.117890199999977 78146.19074263719\n",
      "Initial minimum distance: 150592.21796138602\n"
     ]
    },
    {
     "name": "stderr",
     "output_type": "stream",
     "text": [
      "100% |########################################################################|\n",
      "  0% |                                                                        |\r"
     ]
    },
    {
     "name": "stdout",
     "output_type": "stream",
     "text": [
      "Count: 1922648 Remain steps: 77352\n",
      "Global minimum distance: 86229.86265943087\n",
      "14.086496599999975 86229.86265943087\n",
      "Initial minimum distance: 152866.54808650183\n"
     ]
    },
    {
     "name": "stderr",
     "output_type": "stream",
     "text": [
      "100% |########################################################################|\n",
      "  0% |                                                                        |\r"
     ]
    },
    {
     "name": "stdout",
     "output_type": "stream",
     "text": [
      "Count: 1923584 Remain steps: 76416\n",
      "Global minimum distance: 84244.9327244795\n",
      "14.088229399999989 84244.9327244795\n",
      "Initial minimum distance: 147806.90663890453\n"
     ]
    },
    {
     "name": "stderr",
     "output_type": "stream",
     "text": [
      "100% |########################################################################|\n",
      "  0% |                                                                        |\r"
     ]
    },
    {
     "name": "stdout",
     "output_type": "stream",
     "text": [
      "Count: 1922856 Remain steps: 77144\n",
      "Global minimum distance: 79594.29469122298\n",
      "14.1500762 79594.29469122298\n",
      "Initial minimum distance: 148369.13292489707\n"
     ]
    },
    {
     "name": "stderr",
     "output_type": "stream",
     "text": [
      "100% |########################################################################|\n",
      "  0% |                                                                        |\r"
     ]
    },
    {
     "name": "stdout",
     "output_type": "stream",
     "text": [
      "Count: 1922752 Remain steps: 77248\n",
      "Global minimum distance: 67062.8389543835\n",
      "13.97673119999996 67062.8389543835\n",
      "Initial minimum distance: 144773.2129075364\n"
     ]
    },
    {
     "name": "stderr",
     "output_type": "stream",
     "text": [
      "100% |########################################################################|\n",
      "  0% |                                                                        |\r"
     ]
    },
    {
     "name": "stdout",
     "output_type": "stream",
     "text": [
      "Count: 1921816 Remain steps: 78184\n",
      "Global minimum distance: 78683.6253706723\n",
      "14.211501099999964 78683.6253706723\n",
      "Initial minimum distance: 148094.31891879073\n"
     ]
    },
    {
     "name": "stderr",
     "output_type": "stream",
     "text": [
      "100% |########################################################################|\n",
      "  0% |                                                                        |\r"
     ]
    },
    {
     "name": "stdout",
     "output_type": "stream",
     "text": [
      "Count: 1923688 Remain steps: 76312\n",
      "Global minimum distance: 82083.39756933015\n",
      "14.160861599999976 82083.39756933015\n",
      "Initial minimum distance: 151699.28407411734\n"
     ]
    },
    {
     "name": "stderr",
     "output_type": "stream",
     "text": [
      "100% |########################################################################|\n",
      "  0% |                                                                        |\r"
     ]
    },
    {
     "name": "stdout",
     "output_type": "stream",
     "text": [
      "Count: 1923272 Remain steps: 76728\n",
      "Global minimum distance: 82466.75683694326\n",
      "13.911024999999995 82466.75683694326\n",
      "Initial minimum distance: 148435.35837834774\n"
     ]
    },
    {
     "name": "stderr",
     "output_type": "stream",
     "text": [
      "100% |########################################################################|\n",
      "  0% |                                                                        |\r"
     ]
    },
    {
     "name": "stdout",
     "output_type": "stream",
     "text": [
      "Count: 1921608 Remain steps: 78392\n",
      "Global minimum distance: 82567.1149325372\n",
      "14.100190300000008 82567.1149325372\n",
      "Initial minimum distance: 149612.12863640365\n"
     ]
    },
    {
     "name": "stderr",
     "output_type": "stream",
     "text": [
      "100% |########################################################################|\n",
      "  0% |                                                                        |\r"
     ]
    },
    {
     "name": "stdout",
     "output_type": "stream",
     "text": [
      "Count: 1921504 Remain steps: 78496\n",
      "Global minimum distance: 73332.02646894263\n",
      "14.303249199999982 73332.02646894263\n",
      "Initial minimum distance: 146498.4179976161\n"
     ]
    },
    {
     "name": "stderr",
     "output_type": "stream",
     "text": [
      "100% |########################################################################|\n",
      "  0% |                                                                        |\r"
     ]
    },
    {
     "name": "stdout",
     "output_type": "stream",
     "text": [
      "Count: 1923168 Remain steps: 76832\n",
      "Global minimum distance: 80239.20118671346\n",
      "13.951421900000014 80239.20118671346\n",
      "Initial minimum distance: 147483.41982446518\n"
     ]
    },
    {
     "name": "stderr",
     "output_type": "stream",
     "text": [
      "100% |########################################################################|\n",
      "  0% |                                                                        |\r"
     ]
    },
    {
     "name": "stdout",
     "output_type": "stream",
     "text": [
      "Count: 1924208 Remain steps: 75792\n",
      "Global minimum distance: 82891.18925914505\n",
      "14.185374000000024 82891.18925914505\n",
      "Initial minimum distance: 146043.79158672638\n"
     ]
    },
    {
     "name": "stderr",
     "output_type": "stream",
     "text": [
      "100% |########################################################################|\n",
      "  0% |                                                                        |\r"
     ]
    },
    {
     "name": "stdout",
     "output_type": "stream",
     "text": [
      "Count: 1922024 Remain steps: 77976\n",
      "Global minimum distance: 84798.56689631319\n",
      "13.830463199999997 84798.56689631319\n",
      "Initial minimum distance: 151034.23723807954\n"
     ]
    },
    {
     "name": "stderr",
     "output_type": "stream",
     "text": [
      "100% |########################################################################|\n",
      "  0% |                                                                        |\r"
     ]
    },
    {
     "name": "stdout",
     "output_type": "stream",
     "text": [
      "Count: 1926184 Remain steps: 73816\n",
      "Global minimum distance: 80622.9108234958\n",
      "13.536318199999982 80622.9108234958\n",
      "Initial minimum distance: 147758.98984644914\n"
     ]
    },
    {
     "name": "stderr",
     "output_type": "stream",
     "text": [
      "100% |########################################################################|\n",
      "  0% |                                                                        |\r"
     ]
    },
    {
     "name": "stdout",
     "output_type": "stream",
     "text": [
      "Count: 1923688 Remain steps: 76312\n",
      "Global minimum distance: 77866.1786272161\n",
      "13.986972299999934 77866.1786272161\n",
      "Initial minimum distance: 150845.97962871936\n"
     ]
    },
    {
     "name": "stderr",
     "output_type": "stream",
     "text": [
      "100% |########################################################################|\n",
      "  0% |                                                                        |\r"
     ]
    },
    {
     "name": "stdout",
     "output_type": "stream",
     "text": [
      "Count: 1924416 Remain steps: 75584\n",
      "Global minimum distance: 83042.5877464525\n",
      "13.788200699999948 83042.5877464525\n",
      "Initial minimum distance: 154103.15808417174\n"
     ]
    },
    {
     "name": "stderr",
     "output_type": "stream",
     "text": [
      "100% |########################################################################|\n",
      "  0% |                                                                        |\r"
     ]
    },
    {
     "name": "stdout",
     "output_type": "stream",
     "text": [
      "Count: 1924832 Remain steps: 75168\n",
      "Global minimum distance: 79825.38198516991\n",
      "14.18698310000002 79825.38198516991\n",
      "Initial minimum distance: 149145.74283405492\n"
     ]
    },
    {
     "name": "stderr",
     "output_type": "stream",
     "text": [
      "100% |########################################################################|\n",
      "  0% |                                                                        |\r"
     ]
    },
    {
     "name": "stdout",
     "output_type": "stream",
     "text": [
      "Count: 1922232 Remain steps: 77768\n",
      "Global minimum distance: 79454.41299599917\n",
      "14.624361700000009 79454.41299599917\n",
      "Initial minimum distance: 147229.66169796963\n"
     ]
    },
    {
     "name": "stderr",
     "output_type": "stream",
     "text": [
      "100% |########################################################################|\n",
      "  0% |                                                                        |\r"
     ]
    },
    {
     "name": "stdout",
     "output_type": "stream",
     "text": [
      "Count: 1922752 Remain steps: 77248\n",
      "Global minimum distance: 83277.8055798786\n",
      "14.26119959999994 83277.8055798786\n",
      "Initial minimum distance: 152912.20870661995\n"
     ]
    },
    {
     "name": "stderr",
     "output_type": "stream",
     "text": [
      "100% |########################################################################|\n",
      "  0% |                                                                        |\r"
     ]
    },
    {
     "name": "stdout",
     "output_type": "stream",
     "text": [
      "Count: 1920672 Remain steps: 79328\n",
      "Global minimum distance: 84943.17035464868\n",
      "14.077644299999974 84943.17035464868\n",
      "Initial minimum distance: 154048.4117352032\n"
     ]
    },
    {
     "name": "stderr",
     "output_type": "stream",
     "text": [
      "100% |########################################################################|\n",
      "  0% |                                                                        |\r"
     ]
    },
    {
     "name": "stdout",
     "output_type": "stream",
     "text": [
      "Count: 1921504 Remain steps: 78496\n",
      "Global minimum distance: 86896.43973246314\n",
      "14.360439700000029 86896.43973246314\n",
      "Initial minimum distance: 146721.67793331866\n"
     ]
    },
    {
     "name": "stderr",
     "output_type": "stream",
     "text": [
      "100% |########################################################################|\n",
      "  0% |                                                                        |\r"
     ]
    },
    {
     "name": "stdout",
     "output_type": "stream",
     "text": [
      "Count: 1922440 Remain steps: 77560\n",
      "Global minimum distance: 81488.28960496232\n",
      "14.12677599999995 81488.28960496232\n",
      "Initial minimum distance: 262367.6115629267\n"
     ]
    },
    {
     "name": "stderr",
     "output_type": "stream",
     "text": [
      "100% |########################################################################|\n",
      "  0% |                                                                        |\r"
     ]
    },
    {
     "name": "stdout",
     "output_type": "stream",
     "text": [
      "Count: 2849154 Remain steps: 150846\n",
      "Global minimum distance: 140502.157485016\n",
      "26.205651699999976 140502.157485016\n",
      "Initial minimum distance: 279132.62263274693\n"
     ]
    },
    {
     "name": "stderr",
     "output_type": "stream",
     "text": [
      "100% |########################################################################|\n",
      "  0% |                                                                        |\r"
     ]
    },
    {
     "name": "stdout",
     "output_type": "stream",
     "text": [
      "Count: 2843764 Remain steps: 156236\n",
      "Global minimum distance: 132995.82075256383\n",
      "26.092724399999952 132995.82075256383\n",
      "Initial minimum distance: 269633.2178251071\n"
     ]
    },
    {
     "name": "stderr",
     "output_type": "stream",
     "text": [
      "100% |########################################################################|\n",
      "  0% |                                                                        |\r"
     ]
    },
    {
     "name": "stdout",
     "output_type": "stream",
     "text": [
      "Count: 2850540 Remain steps: 149460\n",
      "Global minimum distance: 138957.14574598387\n",
      "26.111509899999987 138957.14574598387\n",
      "Initial minimum distance: 273393.2636478203\n"
     ]
    },
    {
     "name": "stderr",
     "output_type": "stream",
     "text": [
      "100% |########################################################################|\n",
      "  0% |                                                                        |\r"
     ]
    },
    {
     "name": "stdout",
     "output_type": "stream",
     "text": [
      "Count: 2841762 Remain steps: 158238\n",
      "Global minimum distance: 124910.80835239404\n",
      "26.071999700000106 124910.80835239404\n",
      "Initial minimum distance: 277144.1144037444\n"
     ]
    },
    {
     "name": "stderr",
     "output_type": "stream",
     "text": [
      "100% |########################################################################|\n",
      "  0% |                                                                        |\r"
     ]
    },
    {
     "name": "stdout",
     "output_type": "stream",
     "text": [
      "Count: 2845304 Remain steps: 154696\n",
      "Global minimum distance: 135626.21189189405\n",
      "26.31031889999997 135626.21189189405\n",
      "Initial minimum distance: 275010.67411566584\n"
     ]
    },
    {
     "name": "stderr",
     "output_type": "stream",
     "text": [
      "100% |########################################################################|\n",
      "  0% |                                                                        |\r"
     ]
    },
    {
     "name": "stdout",
     "output_type": "stream",
     "text": [
      "Count: 2845766 Remain steps: 154234\n",
      "Global minimum distance: 147592.08981638172\n",
      "26.209732799999983 147592.08981638172\n",
      "Initial minimum distance: 270240.66141683573\n"
     ]
    },
    {
     "name": "stderr",
     "output_type": "stream",
     "text": [
      "100% |########################################################################|\n",
      "  0% |                                                                        |\r"
     ]
    },
    {
     "name": "stdout",
     "output_type": "stream",
     "text": [
      "Count: 2845920 Remain steps: 154080\n",
      "Global minimum distance: 142105.57605363152\n",
      "26.058460099999934 142105.57605363152\n",
      "Initial minimum distance: 267334.33646596584\n"
     ]
    },
    {
     "name": "stderr",
     "output_type": "stream",
     "text": [
      "100% |########################################################################|\n",
      "  0% |                                                                        |\r"
     ]
    },
    {
     "name": "stdout",
     "output_type": "stream",
     "text": [
      "Count: 2843764 Remain steps: 156236\n",
      "Global minimum distance: 141338.32808783752\n",
      "26.168065999999953 141338.32808783752\n",
      "Initial minimum distance: 273795.4561611352\n"
     ]
    },
    {
     "name": "stderr",
     "output_type": "stream",
     "text": [
      "100% |########################################################################|\n",
      "  0% |                                                                        |\r"
     ]
    },
    {
     "name": "stdout",
     "output_type": "stream",
     "text": [
      "Count: 2844842 Remain steps: 155158\n",
      "Global minimum distance: 132746.59386792307\n",
      "26.461917399999948 132746.59386792307\n",
      "Initial minimum distance: 270940.7266183029\n"
     ]
    },
    {
     "name": "stderr",
     "output_type": "stream",
     "text": [
      "100% |########################################################################|\n",
      "  0% |                                                                        |\r"
     ]
    },
    {
     "name": "stdout",
     "output_type": "stream",
     "text": [
      "Count: 2848384 Remain steps: 151616\n",
      "Global minimum distance: 136389.96538762303\n",
      "26.176679199999967 136389.96538762303\n",
      "Initial minimum distance: 275047.03809689765\n"
     ]
    },
    {
     "name": "stderr",
     "output_type": "stream",
     "text": [
      "100% |########################################################################|\n",
      "  0% |                                                                        |\r"
     ]
    },
    {
     "name": "stdout",
     "output_type": "stream",
     "text": [
      "Count: 2845612 Remain steps: 154388\n",
      "Global minimum distance: 136229.60109506059\n",
      "26.08748360000004 136229.60109506059\n",
      "Initial minimum distance: 266550.43338410225\n"
     ]
    },
    {
     "name": "stderr",
     "output_type": "stream",
     "text": [
      "100% |########################################################################|\n",
      "  0% |                                                                        |\r"
     ]
    },
    {
     "name": "stdout",
     "output_type": "stream",
     "text": [
      "Count: 2849462 Remain steps: 150538\n",
      "Global minimum distance: 145557.82099430184\n",
      "26.356901600000015 145557.82099430184\n",
      "Initial minimum distance: 272443.4056318054\n"
     ]
    },
    {
     "name": "stderr",
     "output_type": "stream",
     "text": [
      "100% |########################################################################|\n",
      "  0% |                                                                        |\r"
     ]
    },
    {
     "name": "stdout",
     "output_type": "stream",
     "text": [
      "Count: 2845150 Remain steps: 154850\n",
      "Global minimum distance: 139734.02765188043\n",
      "26.17367020000006 139734.02765188043\n",
      "Initial minimum distance: 272830.3742782878\n"
     ]
    },
    {
     "name": "stderr",
     "output_type": "stream",
     "text": [
      "100% |########################################################################|\n",
      "  0% |                                                                        |\r"
     ]
    },
    {
     "name": "stdout",
     "output_type": "stream",
     "text": [
      "Count: 2846536 Remain steps: 153464\n",
      "Global minimum distance: 141231.21743156682\n",
      "26.45649149999997 141231.21743156682\n",
      "Initial minimum distance: 270486.1784161459\n"
     ]
    },
    {
     "name": "stderr",
     "output_type": "stream",
     "text": [
      " 83% |############################################################            |\r"
     ]
    }
   ],
   "source": [
    "%matplotlib inline\n",
    "import numpy as np\n",
    "\n",
    "city_paths = [\"mtsp51.txt\",\"mtsp100.txt\",\"mtsp150.txt\",\"pr76.txt\",\"pr152.txt\",\"pr226.txt\"]\n",
    "\n",
    "\n",
    "results_file = open('./results.txt','a')\n",
    "T = 30\n",
    "\n",
    "from GA_for_mTSP.improved_baseline.main import ImporvedBaseline\n",
    "\n",
    "\n",
    "for city_path in city_paths:\n",
    "    city = np.genfromtxt('./instances/'+city_path, dtype=int, skip_header=1)\n",
    "    distances_baseline = []\n",
    "    t_baseline = []\n",
    "    for i in range(T):\n",
    "        imporved_baseline = ImporvedBaseline(numGenerations=105,plot_progress=False,seedValue=i)\n",
    "        t,d = imporved_baseline.GA(city=city)\n",
    "        t_baseline.append(t)\n",
    "        distances_baseline.append(d)\n",
    "        print(f\"{t} {d}\")\n",
    "\n",
    "\n",
    "    results_file.write('\\n'+city_path+'\\n')\n",
    "    results_file.write(\"baseline\\n\")\n",
    "    results_file.write(str(distances_baseline)+'\\n')\n",
    "    results_file.write(str(t_baseline)+'\\n')\n",
    "    results_file.flush()\n",
    "\n",
    "\n",
    "results_file.close()\n",
    "# imporved_baseline = ImporvedBaseline(numGenerations=100,plot_progress=False,seedValue=0)\n",
    "# imporved_baseline.GA(city=city)\n",
    "\n"
   ]
  },
  {
   "cell_type": "code",
   "execution_count": null,
   "metadata": {},
   "outputs": [],
   "source": [
    "from GA_for_mTSP.muti_ch.main import MultiChromosome\n",
    "\n",
    "d = []\n",
    "\n",
    "for i in range(T):\n",
    "    muti_ch = MultiChromosome(numGenerations=100, plot_progress=False, seedValue=1)\n",
    "    d.append(muti_ch.GA(city=city))\n",
    "\n"
   ]
  },
  {
   "cell_type": "code",
   "execution_count": null,
   "metadata": {},
   "outputs": [],
   "source": [
    "from scipy.stats import ranksums\n",
    "\n",
    "print(np.mean(d))\n",
    "print(np.mean(d_baseline))\n",
    "print(ranksums(d, d_baseline, \"less\"))\n",
    "\n"
   ]
  }
 ],
 "metadata": {
  "interpreter": {
   "hash": "775eff912bf67072a4d32c22564e83ff44c920edb44d0fdcc746e8f711b0690b"
  },
  "kernelspec": {
   "display_name": "Python 3.8.11 64-bit ('torch': conda)",
   "language": "python",
   "name": "python3"
  },
  "language_info": {
   "codemirror_mode": {
    "name": "ipython",
    "version": 3
   },
   "file_extension": ".py",
   "mimetype": "text/x-python",
   "name": "python",
   "nbconvert_exporter": "python",
   "pygments_lexer": "ipython3",
   "version": "3.8.12"
  },
  "orig_nbformat": 4
 },
 "nbformat": 4,
 "nbformat_minor": 2
}
