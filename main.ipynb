{
 "cells": [
  {
   "cell_type": "code",
   "execution_count": 4,
   "metadata": {},
   "outputs": [],
   "source": [
    "%matplotlib inline\n",
    "import numpy as np\n",
    "import csv\n",
    "\n",
    "T = 1\n",
    "output_filepath = './test.txt'\n",
    "plot_result = True"
   ]
  },
  {
   "cell_type": "code",
   "execution_count": 5,
   "metadata": {},
   "outputs": [
    {
     "name": "stderr",
     "output_type": "stream",
     "text": [
      "  1% |#                                                                       |\r"
     ]
    },
    {
     "name": "stdout",
     "output_type": "stream",
     "text": [
      "Initial minimum distance: 1515.579282151414\n"
     ]
    },
    {
     "name": "stderr",
     "output_type": "stream",
     "text": [
      "100% |########################################################################|\n",
      "  0% |                                                                        |\r"
     ]
    },
    {
     "name": "stdout",
     "output_type": "stream",
     "text": [
      "Count: 1027015 Remain steps: -7015\n",
      "Global minimum distance: 891.1857026659956\n",
      "epoch 0, time cost: 6.402085800000009, min distance: 891.1857026659956, steps: 1027015\n",
      "Initial minimum distance: 151558.56565090272\n"
     ]
    },
    {
     "name": "stderr",
     "output_type": "stream",
     "text": [
      "100% |########################################################################|\n",
      "  0% |                                                                        |\r"
     ]
    },
    {
     "name": "stdout",
     "output_type": "stream",
     "text": [
      "Count: 2011256 Remain steps: -11256\n",
      "Global minimum distance: 80947.26142289357\n",
      "epoch 0, time cost: 14.768496599999992, min distance: 80947.26142289357, steps: 2011256\n",
      "Initial minimum distance: 262367.6115629267\n"
     ]
    },
    {
     "name": "stderr",
     "output_type": "stream",
     "text": [
      "100% |########################################################################|\n",
      "  0% |                                                                        |\r"
     ]
    },
    {
     "name": "stdout",
     "output_type": "stream",
     "text": [
      "Count: 3011008 Remain steps: -11008\n",
      "Global minimum distance: 140502.157485016\n",
      "epoch 0, time cost: 26.862657599999977, min distance: 140502.157485016, steps: 3011008\n",
      "Initial minimum distance: 542966.8056151601\n"
     ]
    },
    {
     "name": "stderr",
     "output_type": "stream",
     "text": [
      "100% |########################################################################|\n",
      "  0% |                                                                        |\r"
     ]
    },
    {
     "name": "stdout",
     "output_type": "stream",
     "text": [
      "Count: 1520800 Remain steps: -800\n",
      "Global minimum distance: 328104.81930920907\n",
      "epoch 0, time cost: 10.125132699999995, min distance: 328104.81930920907, steps: 1520800\n",
      "Initial minimum distance: 985342.6485790903\n"
     ]
    },
    {
     "name": "stderr",
     "output_type": "stream",
     "text": [
      "100% |########################################################################|\n",
      "  0% |                                                                        |\r"
     ]
    },
    {
     "name": "stdout",
     "output_type": "stream",
     "text": [
      "Count: 3055260 Remain steps: -15260\n",
      "Global minimum distance: 510582.1264875845\n",
      "epoch 0, time cost: 27.362255500000003, min distance: 510582.1264875845, steps: 3055260\n",
      "Initial minimum distance: 1589124.896338181\n"
     ]
    },
    {
     "name": "stderr",
     "output_type": "stream",
     "text": [
      "100% |########################################################################|\r"
     ]
    },
    {
     "name": "stdout",
     "output_type": "stream",
     "text": [
      "Count: 4537670 Remain steps: -17670\n",
      "Global minimum distance: 876068.034170909\n",
      "epoch 0, time cost: 54.28711510000002, min distance: 876068.034170909, steps: 4537670\n"
     ]
    },
    {
     "name": "stderr",
     "output_type": "stream",
     "text": [
      "\n"
     ]
    }
   ],
   "source": [
    "instances = [\"mtsp51\",\"mtsp100\",\"mtsp150\",\"pr76\",\"pr152\",\"pr226\"]\n",
    "# numGenerations = [105,109,110,107,110,111] # Generation number for baseline \n",
    "numGenerations = [105,109,110,107,110,111] # Generation number for original \n",
    "\n",
    "results_file = open(output_filepath,'a')\n",
    "\n",
    "from GA_for_mTSP.improved_baseline.main import ImporvedBaseline\n",
    "\n",
    "writer = csv.writer(results_file,delimiter=',')\n",
    "algorithm_name = \"baseline\"\n",
    "\n",
    "for i in range(len(instances)):\n",
    "    instance = instances[i]\n",
    "    city = np.genfromtxt('./instances/'+instance+'.txt', dtype=int, skip_header=1)\n",
    "\n",
    "\n",
    "    distances_baseline = [instance, algorithm_name, \"distance\"]\n",
    "    time_baseline =  [instance, algorithm_name, \"time\"]\n",
    "    count_baseline =  [instance, algorithm_name, \"count\"]\n",
    "    \n",
    "    for k in range(T):\n",
    "        imporved_baseline = ImporvedBaseline(numGenerations=numGenerations[i]+1,plot_progress=False,seedValue=k,plot_result = plot_result)\n",
    "        t,d,c = imporved_baseline.GA(city=city)\n",
    "        time_baseline.append(t)\n",
    "        distances_baseline.append(d)\n",
    "        count_baseline.append(c)\n",
    "        print(f\"epoch {k}, time cost: {t}, min distance: {d}, steps: {c}\")\n",
    "\n",
    "\n",
    "    writer.writerow(distances_baseline)\n",
    "    writer.writerow(time_baseline)\n",
    "    writer.writerow(count_baseline)\n",
    "    results_file.flush()\n",
    "\n",
    "\n",
    "results_file.close()\n",
    "\n",
    "\n"
   ]
  },
  {
   "cell_type": "code",
   "execution_count": 6,
   "metadata": {},
   "outputs": [
    {
     "name": "stderr",
     "output_type": "stream",
     "text": [
      "  0% |                                                                        |\r"
     ]
    },
    {
     "name": "stdout",
     "output_type": "stream",
     "text": [
      "Initial minimum distance: 1515.579282151414\n"
     ]
    },
    {
     "name": "stderr",
     "output_type": "stream",
     "text": [
      "100% |########################################################################|\n",
      "  0% |                                                                        |\r"
     ]
    },
    {
     "name": "stdout",
     "output_type": "stream",
     "text": [
      "epoch 0, time cost: 10.348776299999997, min distance: 724.3274022747914, steps: 1018270\n",
      "Initial minimum distance: 151558.56565090272\n"
     ]
    },
    {
     "name": "stderr",
     "output_type": "stream",
     "text": [
      "100% |########################################################################|\n",
      "  0% |                                                                        |\r"
     ]
    },
    {
     "name": "stdout",
     "output_type": "stream",
     "text": [
      "epoch 0, time cost: 20.30648880000001, min distance: 50097.716689361216, steps: 1997528\n",
      "Initial minimum distance: 262367.6115629267\n"
     ]
    },
    {
     "name": "stderr",
     "output_type": "stream",
     "text": [
      "100% |########################################################################|\n",
      "  1% |                                                                        |\r"
     ]
    },
    {
     "name": "stdout",
     "output_type": "stream",
     "text": [
      "epoch 0, time cost: 30.64192410000004, min distance: 105418.86017520085, steps: 2988370\n",
      "Initial minimum distance: 542966.8056151601\n"
     ]
    },
    {
     "name": "stderr",
     "output_type": "stream",
     "text": [
      "100% |########################################################################|\n",
      "  0% |                                                                        |\r"
     ]
    },
    {
     "name": "stdout",
     "output_type": "stream",
     "text": [
      "epoch 0, time cost: 15.159231499999976, min distance: 228302.98892309394, steps: 1512800\n",
      "Initial minimum distance: 985342.6485790903\n"
     ]
    },
    {
     "name": "stderr",
     "output_type": "stream",
     "text": [
      "100% |########################################################################|\n",
      "  0% |                                                                        |\r"
     ]
    },
    {
     "name": "stdout",
     "output_type": "stream",
     "text": [
      "epoch 0, time cost: 30.62040780000001, min distance: 355289.2966699701, steps: 3027180\n",
      "Initial minimum distance: 1589124.896338181\n"
     ]
    },
    {
     "name": "stderr",
     "output_type": "stream",
     "text": [
      "100% |########################################################################|\r"
     ]
    },
    {
     "name": "stdout",
     "output_type": "stream",
     "text": [
      "epoch 0, time cost: 45.29642150000001, min distance: 635984.7688364838, steps: 4508690\n"
     ]
    },
    {
     "name": "stderr",
     "output_type": "stream",
     "text": [
      "\n"
     ]
    }
   ],
   "source": [
    "# Run our method\n",
    "\n",
    "numGenerations = [186,193,195,190,195,197] # Generation number for modified \n",
    "# numGenerations = [105,109,110,107,110,111] # Generation number for original \n",
    "\n",
    "\n",
    "instances = [\"mtsp51\",\"mtsp100\",\"mtsp150\",\"pr76\",\"pr152\",\"pr226\"]\n",
    "\n",
    "results_file = open(output_filepath,'a')\n",
    "\n",
    "from GA_for_mTSP.ours.main import MultiChromosome\n",
    "\n",
    "writer = csv.writer(results_file,delimiter=',')\n",
    "algorithm_name = \"ours_nocrossover\"\n",
    "\n",
    "for i in range(len(instances)):\n",
    "    instance = instances[i]\n",
    "    city = np.genfromtxt('./instances/'+instance+'.txt', dtype=int, skip_header=1)\n",
    "    distances_our = [instance, algorithm_name, \"distance\"]\n",
    "    time_our =  [instance, algorithm_name, \"time\"]\n",
    "    count_our =  [instance, algorithm_name, \"count\"]\n",
    "    \n",
    "    for k in range(T):\n",
    "        ours = MultiChromosome(numGenerations=numGenerations[i],plot_progress=False,seedValue=k,plot_result = plot_result)\n",
    "        t,d,c = ours.GA(city=city)\n",
    "        time_our.append(t)\n",
    "        distances_our.append(d)\n",
    "        count_our.append(c)\n",
    "        print(f\"epoch {k}, time cost: {t}, min distance: {d}, steps: {c}\")\n",
    "\n",
    "\n",
    "    writer.writerow(distances_our)\n",
    "    writer.writerow(time_our)\n",
    "    writer.writerow(count_our)\n",
    "    results_file.flush()\n",
    "\n",
    "\n",
    "results_file.close()\n"
   ]
  },
  {
   "cell_type": "code",
   "execution_count": null,
   "metadata": {},
   "outputs": [],
   "source": [
    "\n"
   ]
  }
 ],
 "metadata": {
  "interpreter": {
   "hash": "775eff912bf67072a4d32c22564e83ff44c920edb44d0fdcc746e8f711b0690b"
  },
  "kernelspec": {
   "display_name": "Python 3.8.11 64-bit ('torch': conda)",
   "language": "python",
   "name": "python3"
  },
  "language_info": {
   "codemirror_mode": {
    "name": "ipython",
    "version": 3
   },
   "file_extension": ".py",
   "mimetype": "text/x-python",
   "name": "python",
   "nbconvert_exporter": "python",
   "pygments_lexer": "ipython3",
   "version": "3.8.12"
  },
  "orig_nbformat": 4
 },
 "nbformat": 4,
 "nbformat_minor": 2
}
