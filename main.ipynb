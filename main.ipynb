{
 "cells": [
  {
   "cell_type": "code",
   "execution_count": 2,
   "metadata": {},
   "outputs": [],
   "source": [
    "%matplotlib inline\n",
    "import numpy as np\n",
    "T = 30\n"
   ]
  },
  {
   "cell_type": "code",
   "execution_count": null,
   "metadata": {},
   "outputs": [],
   "source": [
    "\n",
    "\n",
    "city_paths = [\"mtsp51.txt\",\"mtsp100.txt\",\"mtsp150.txt\",\"pr76.txt\",\"pr152.txt\",\"pr226.txt\"]\n",
    "\n",
    "\n",
    "results_file = open('./results.txt','a')\n",
    "\n",
    "from GA_for_mTSP.improved_baseline.main import ImporvedBaseline\n",
    "\n",
    "\n",
    "for city_path in city_paths:\n",
    "    city = np.genfromtxt('./instances/'+city_path, dtype=int, skip_header=1)\n",
    "    distances_baseline = []\n",
    "    t_baseline = []\n",
    "    cout_baseline = []\n",
    "    for i in range(T):\n",
    "        imporved_baseline = ImporvedBaseline(numGenerations=105,plot_progress=False,seedValue=i)\n",
    "        t,d,c = imporved_baseline.GA(city=city)\n",
    "        t_baseline.append(t)\n",
    "        distances_baseline.append(d)\n",
    "        cout_baseline.append(c)\n",
    "        print(f\"{t} {d}\")\n",
    "\n",
    "\n",
    "    results_file.write('\\n'+city_path+'\\n')\n",
    "    results_file.write(\"baseline\\n\")\n",
    "    results_file.write(str(distances_baseline)+'\\n')\n",
    "    results_file.write(str(t_baseline)+'\\n')\n",
    "    results_file.write(str(cout_baseline)+'\\n')\n",
    "    results_file.flush()\n",
    "\n",
    "\n",
    "results_file.close()\n",
    "# imporved_baseline = ImporvedBaseline(numGenerations=100,plot_progress=False,seedValue=0)\n",
    "# imporved_baseline.GA(city=city)\n",
    "\n"
   ]
  },
  {
   "cell_type": "code",
   "execution_count": 3,
   "metadata": {},
   "outputs": [
    {
     "ename": "NameError",
     "evalue": "name 'T' is not defined",
     "output_type": "error",
     "traceback": [
      "\u001b[0;31m---------------------------------------------------------------------------\u001b[0m",
      "\u001b[0;31mNameError\u001b[0m                                 Traceback (most recent call last)",
      "\u001b[0;32m/tmp/ipykernel_464/1458482971.py\u001b[0m in \u001b[0;36m<module>\u001b[0;34m\u001b[0m\n\u001b[1;32m     10\u001b[0m     \u001b[0mtime\u001b[0m \u001b[0;34m=\u001b[0m \u001b[0;34m[\u001b[0m\u001b[0;34m]\u001b[0m\u001b[0;34m\u001b[0m\u001b[0;34m\u001b[0m\u001b[0m\n\u001b[1;32m     11\u001b[0m     \u001b[0mcont\u001b[0m \u001b[0;34m=\u001b[0m \u001b[0;34m[\u001b[0m\u001b[0;34m]\u001b[0m\u001b[0;34m\u001b[0m\u001b[0;34m\u001b[0m\u001b[0m\n\u001b[0;32m---> 12\u001b[0;31m     \u001b[0;32mfor\u001b[0m \u001b[0mi\u001b[0m \u001b[0;32min\u001b[0m \u001b[0mrange\u001b[0m\u001b[0;34m(\u001b[0m\u001b[0mT\u001b[0m\u001b[0;34m)\u001b[0m\u001b[0;34m:\u001b[0m\u001b[0;34m\u001b[0m\u001b[0;34m\u001b[0m\u001b[0m\n\u001b[0m\u001b[1;32m     13\u001b[0m         \u001b[0mmuti_ch\u001b[0m \u001b[0;34m=\u001b[0m \u001b[0mMultiChromosome\u001b[0m\u001b[0;34m(\u001b[0m\u001b[0mnumGenerations\u001b[0m\u001b[0;34m=\u001b[0m\u001b[0;36m105\u001b[0m\u001b[0;34m,\u001b[0m\u001b[0mplot_progress\u001b[0m\u001b[0;34m=\u001b[0m\u001b[0;32mFalse\u001b[0m\u001b[0;34m,\u001b[0m\u001b[0mseedValue\u001b[0m\u001b[0;34m=\u001b[0m\u001b[0mi\u001b[0m\u001b[0;34m)\u001b[0m\u001b[0;34m\u001b[0m\u001b[0;34m\u001b[0m\u001b[0m\n\u001b[1;32m     14\u001b[0m         \u001b[0mt\u001b[0m\u001b[0;34m,\u001b[0m\u001b[0md\u001b[0m\u001b[0;34m,\u001b[0m\u001b[0mc\u001b[0m \u001b[0;34m=\u001b[0m \u001b[0mmuti_ch\u001b[0m\u001b[0;34m.\u001b[0m\u001b[0mGA\u001b[0m\u001b[0;34m(\u001b[0m\u001b[0mcity\u001b[0m\u001b[0;34m=\u001b[0m\u001b[0mcity\u001b[0m\u001b[0;34m)\u001b[0m\u001b[0;34m\u001b[0m\u001b[0;34m\u001b[0m\u001b[0m\n",
      "\u001b[0;31mNameError\u001b[0m: name 'T' is not defined"
     ]
    }
   ],
   "source": [
    "\n",
    "city_paths = [\"pr152.txt\",\"pr226.txt\"]\n",
    "\n",
    "results_file = open('./results.txt','a')\n",
    "\n",
    "from GA_for_mTSP.muti_ch.main import MultiChromosome\n",
    "\n",
    "for city_path in city_paths:\n",
    "    city = np.genfromtxt('./instances/'+city_path, dtype=int, skip_header=1)\n",
    "    distances = []\n",
    "    time = []\n",
    "    cont = []\n",
    "    for i in range(T):\n",
    "        muti_ch = MultiChromosome(numGenerations=105,plot_progress=False,seedValue=i)\n",
    "        t,d,c = muti_ch.GA(city=city)\n",
    "        time.append(t)\n",
    "        distances.append(d)\n",
    "        cont.append(c)\n",
    "        print(f\"{t} {d}\")\n",
    "\n",
    "\n",
    "    results_file.write('\\n'+city_path+'\\n')\n",
    "    results_file.write(\"muti ch\\n\")\n",
    "    results_file.write(str(distances)+'\\n')\n",
    "    results_file.write(str(time)+'\\n')\n",
    "    results_file.write(str(cont)+'\\n')\n",
    "    results_file.flush()\n",
    "\n",
    "results_file.close()"
   ]
  },
  {
   "cell_type": "code",
   "execution_count": null,
   "metadata": {},
   "outputs": [],
   "source": [
    "\n"
   ]
  }
 ],
 "metadata": {
  "interpreter": {
   "hash": "775eff912bf67072a4d32c22564e83ff44c920edb44d0fdcc746e8f711b0690b"
  },
  "kernelspec": {
   "display_name": "Python 3.8.11 64-bit ('torch': conda)",
   "language": "python",
   "name": "python3"
  },
  "language_info": {
   "codemirror_mode": {
    "name": "ipython",
    "version": 3
   },
   "file_extension": ".py",
   "mimetype": "text/x-python",
   "name": "python",
   "nbconvert_exporter": "python",
   "pygments_lexer": "ipython3",
   "version": "3.8.12"
  },
  "orig_nbformat": 4
 },
 "nbformat": 4,
 "nbformat_minor": 2
}
